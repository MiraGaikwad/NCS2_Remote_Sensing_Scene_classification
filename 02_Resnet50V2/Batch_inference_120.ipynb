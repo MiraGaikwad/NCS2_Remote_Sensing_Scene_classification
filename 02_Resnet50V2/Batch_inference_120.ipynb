{
 "cells": [
  {
   "cell_type": "markdown",
   "id": "e40bba1c",
   "metadata": {},
   "source": [
    "# CMD Inference"
   ]
  },
  {
   "cell_type": "code",
   "execution_count": 2,
   "id": "5c516888",
   "metadata": {},
   "outputs": [],
   "source": [
    "from openvino.runtime import Core, PartialShape\n",
    "import numpy as np\n",
    "import os\n",
    "import cv2\n",
    "import time\n",
    "\n",
    "num_images=120\n",
    "ie = Core()\n",
    "model_xml = \"IR_model_FP16/saved_model.xml\"\n",
    "model = ie.read_model(model=model_xml)\n",
    "input_layer = next(iter(model.inputs))\n",
    "output_layer = next(iter(model.outputs))\n",
    "new_shape = PartialShape([num_images, 224, 224, 3])\n",
    "model.reshape({input_layer.any_name: new_shape})\n",
    "compiled_model = ie.compile_model(model=model, device_name=\"MYRIAD\")\n",
    "result_index = np.argmax(compiled_model)\n",
    "n, h, w, c = input_layer.shape\n",
    "images = np.zeros(shape=(n, h, w, c))\n",
    "for e, i in enumerate(os.listdir('Resized_images_120/')):\n",
    "    img_name = i.split(\".\")[0]+\".tif\"\n",
    "    image = cv2.cvtColor(cv2.imread(filename=os.path.join('Resized_images_120/', img_name)), code=cv2.COLOR_BGR2RGB)\n",
    "    if image.shape[:-1] != (h, w):\n",
    "        log.warning(\"Image {} is resized from {} to {}\".format(args.input[i], image.shape[:-1], (h, w)))\n",
    "    image = cv2.resize(image, (w, h))\n",
    "    images[e] = image"
   ]
  },
  {
   "cell_type": "markdown",
   "id": "893243b6",
   "metadata": {},
   "source": [
    "## Single Batch"
   ]
  },
  {
   "cell_type": "code",
   "execution_count": null,
   "id": "36d6d3f6",
   "metadata": {},
   "outputs": [],
   "source": [
    "start = time.perf_counter()\n",
    "request = compiled_model.create_infer_request()\n",
    "t0 = time.perf_counter()\n",
    "res = request.infer(inputs={input_layer.any_name: images[:num_images]})\n",
    "t1 = time.perf_counter()\n",
    "infer_time =(t1 - t0)\n",
    "print(infer_time)"
   ]
  },
  {
   "cell_type": "markdown",
   "id": "2e46536c",
   "metadata": {},
   "source": [
    "## Multiple batch"
   ]
  },
  {
   "cell_type": "code",
   "execution_count": 1,
   "id": "4253146b",
   "metadata": {
    "scrolled": true
   },
   "outputs": [],
   "source": [
    "infer_time= []\n",
    "start = time.perf_counter()\n",
    "request = compiled_model.create_infer_request()\n",
    "for _ in range(num_images):\n",
    "    t0 = time.perf_counter()\n",
    "    res = request.infer(inputs={input_layer.any_name: images[:num_images]})\n",
    "    t1 = time.perf_counter()\n",
    "    infer_tm =(t1 - t0)\n",
    "    infer_time.append(infer_tm)  \n",
    "    print(infer_time)"
   ]
  },
  {
   "cell_type": "code",
   "execution_count": null,
   "id": "41aa6dc5",
   "metadata": {},
   "outputs": [],
   "source": [
    "sum_time = sum(infer_time)\n",
    "tot_img = num_images*len(images)\n",
    "print(\"Average running time of one iteration: {} ms\".format(np.average(np.asarray(infer_time))))\n",
    "print(f\"seconds per image, FPS: {tot_img/sum_time:.2f}\")"
   ]
  }
 ],
 "metadata": {
  "kernelspec": {
   "display_name": "Python 3 (ipykernel)",
   "language": "python",
   "name": "python3"
  },
  "language_info": {
   "codemirror_mode": {
    "name": "ipython",
    "version": 3
   },
   "file_extension": ".py",
   "mimetype": "text/x-python",
   "name": "python",
   "nbconvert_exporter": "python",
   "pygments_lexer": "ipython3",
   "version": "3.9.12"
  }
 },
 "nbformat": 4,
 "nbformat_minor": 5
}
